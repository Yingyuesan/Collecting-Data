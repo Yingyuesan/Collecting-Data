{
 "cells": [
  {
   "cell_type": "code",
   "execution_count": null,
   "metadata": {
    "collapsed": true,
    "pycharm": {
     "is_executing": true
    }
   },
   "outputs": [],
   "source": [
    "import requests\n",
    "from bs4 import BeautifulSoup\n",
    "import pandas as pd\n",
    "import re\n",
    "\n",
    "pd.set_option('display.max_colwidth', None)\n",
    "\n",
    "\n",
    "def extract_lyrics(url):\n",
    "    response = requests.get(url)\n",
    "    html_string = response.text\n",
    "    document = BeautifulSoup(html_string, 'html.parser')\n",
    "    cleantitle = document.find('h1').text.replace('lyrics', '').replace('\"', '')\n",
    "    cleanartist = document.find('h2').text.replace('Lyrics', '')\n",
    "    text = document.find('div', attrs='col-xs-12 col-lg-8 text-center').text.replace('\\\\', '').replace('\\n', '')\n",
    "    string1 = 'Submit Corrections'\n",
    "    end_index = text.index(string1)\n",
    "    lyrics = text[:end_index]\n",
    "    # lyrics = text.split(string1)[0]\n",
    "    _, body = lyrics.split('\\r', 1)\n",
    "    cleanlyrics = body.replace('\\r', ',')\n",
    "    return cleantitle, cleanartist, cleanlyrics\n",
    "\n",
    "\n",
    "def get_csv(urls):\n",
    "    list = []\n",
    "    for url in urls:\n",
    "        list.append(extract_lyrics(url))\n",
    "    lrc = pd.DataFrame(list, columns=['Title', 'Artist', 'Lyrics'])\n",
    "    lrc.to_csv('Lyrics.csv')\n",
    "    df = pd.read_csv('Lyrics.csv')\n",
    "    return df\n",
    "\n",
    "\n",
    "urls = ('https://www.azlyrics.com/lyrics/daftpunk/onemoretime.html',\n",
    "        'https://www.azlyrics.com/lyrics/daftpunk/somethingaboutus.html',\n",
    "        'https://www.azlyrics.com/lyrics/toroymoi/girllikeyou.html')\n",
    "\n",
    "get_csv(urls)\n"
   ]
  },
  {
   "cell_type": "code",
   "execution_count": 4,
   "outputs": [],
   "source": [],
   "metadata": {
    "collapsed": false
   }
  }
 ],
 "metadata": {
  "kernelspec": {
   "display_name": "Python 3",
   "language": "python",
   "name": "python3"
  },
  "language_info": {
   "codemirror_mode": {
    "name": "ipython",
    "version": 2
   },
   "file_extension": ".py",
   "mimetype": "text/x-python",
   "name": "python",
   "nbconvert_exporter": "python",
   "pygments_lexer": "ipython2",
   "version": "2.7.6"
  }
 },
 "nbformat": 4,
 "nbformat_minor": 0
}
